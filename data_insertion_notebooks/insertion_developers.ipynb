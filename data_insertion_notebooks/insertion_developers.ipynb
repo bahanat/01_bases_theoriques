{
 "cells": [
  {
   "cell_type": "markdown",
   "id": "d014afbf",
   "metadata": {},
   "source": [
    "# Script d'insertion des données dans la table \"developers\""
   ]
  },
  {
   "cell_type": "code",
   "execution_count": null,
   "id": "15ece98d",
   "metadata": {},
   "outputs": [],
   "source": [
    "import ast\n",
    "import pandas as pd\n",
    "import mysql.connector"
   ]
  },
  {
   "cell_type": "code",
   "execution_count": null,
   "id": "3607aa9c",
   "metadata": {},
   "outputs": [],
   "source": [
    "from config import config"
   ]
  },
  {
   "cell_type": "code",
   "execution_count": null,
   "id": "f7d021c1",
   "metadata": {},
   "outputs": [],
   "source": [
    "descriptions_path = \"../data/games_description.csv\"\n",
    "\n",
    "df_descriptions = pd.read_csv(descriptions_path)"
   ]
  },
  {
   "cell_type": "markdown",
   "id": "91e67ed2",
   "metadata": {},
   "source": [
    "### Préparation du dataframe pour insertion dans la table"
   ]
  },
  {
   "cell_type": "code",
   "execution_count": null,
   "id": "a0bcecb4",
   "metadata": {},
   "outputs": [],
   "source": [
    "# Conversion des string en listes\n",
    "\n",
    "df_descriptions['developer'] = df_descriptions['developer'].apply(ast.literal_eval)"
   ]
  },
  {
   "cell_type": "code",
   "execution_count": null,
   "id": "30f6fb45",
   "metadata": {},
   "outputs": [],
   "source": [
    "# On ajoute les valeurs uniques des genres à l'ensemble unique_developers\n",
    "\n",
    "unique_developers = set()\n",
    "df_descriptions['developer'].apply(unique_developers.update)\n",
    "\n",
    "unique_developers"
   ]
  },
  {
   "cell_type": "markdown",
   "id": "244f3ebf",
   "metadata": {},
   "source": [
    "### Insertion des données"
   ]
  },
  {
   "cell_type": "code",
   "execution_count": null,
   "id": "5477a6b7",
   "metadata": {},
   "outputs": [],
   "source": [
    "# Requête SQL\n",
    "\n",
    "insert_query = \"INSERT IGNORE INTO developers (developer) VALUES (%s)\""
   ]
  },
  {
   "cell_type": "code",
   "execution_count": null,
   "id": "cca06670",
   "metadata": {},
   "outputs": [],
   "source": [
    "# Connexion à la base et exécution de la requête\n",
    "\n",
    "cnx = mysql.connector.connect(**config)\n",
    "cursor = cnx.cursor()\n",
    "\n",
    "cursor.executemany(insert_query, [(developer,) for developer in unique_developers])\n",
    "\n",
    "cnx.commit()\n",
    "cursor.close()\n",
    "cnx.close()"
   ]
  }
 ],
 "metadata": {
  "kernelspec": {
   "display_name": "py312",
   "language": "python",
   "name": "python3"
  },
  "language_info": {
   "codemirror_mode": {
    "name": "ipython",
    "version": 3
   },
   "file_extension": ".py",
   "mimetype": "text/x-python",
   "name": "python",
   "nbconvert_exporter": "python",
   "pygments_lexer": "ipython3",
   "version": "3.12.11"
  }
 },
 "nbformat": 4,
 "nbformat_minor": 5
}
