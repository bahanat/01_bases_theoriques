{
 "cells": [
  {
   "cell_type": "markdown",
   "id": "d014afbf",
   "metadata": {},
   "source": [
    "# Script d'insertion des données dans la table \"rankings\""
   ]
  },
  {
   "cell_type": "code",
   "execution_count": null,
   "id": "15ece98d",
   "metadata": {},
   "outputs": [],
   "source": [
    "import pandas as pd\n",
    "import mysql.connector\n",
    "\n",
    "from datetime import datetime"
   ]
  },
  {
   "cell_type": "code",
   "execution_count": null,
   "id": "3607aa9c",
   "metadata": {},
   "outputs": [],
   "source": [
    "from config import config"
   ]
  },
  {
   "cell_type": "code",
   "execution_count": null,
   "id": "f7d021c1",
   "metadata": {},
   "outputs": [],
   "source": [
    "rankings_path = \"../data/games_ranking.csv\"\n",
    "\n",
    "df_rankings = pd.read_csv(rankings_path)"
   ]
  },
  {
   "cell_type": "code",
   "execution_count": null,
   "id": "4216e9cd",
   "metadata": {},
   "outputs": [],
   "source": [
    "df_rankings"
   ]
  },
  {
   "cell_type": "markdown",
   "id": "87494f09",
   "metadata": {},
   "source": [
    "### Préparation des données avant insertion"
   ]
  },
  {
   "cell_type": "markdown",
   "id": "66028790",
   "metadata": {},
   "source": [
    "#### Ajout des game_id"
   ]
  },
  {
   "cell_type": "code",
   "execution_count": null,
   "id": "f3046b88",
   "metadata": {},
   "outputs": [],
   "source": [
    "# Connexion à la base\n",
    "\n",
    "cnx = mysql.connector.connect(**config)\n",
    "cursor = cnx.cursor()"
   ]
  },
  {
   "cell_type": "code",
   "execution_count": null,
   "id": "1bb7441e",
   "metadata": {},
   "outputs": [],
   "source": [
    "# Récupération de la map game > id\n",
    "\n",
    "cursor.execute(\"SELECT id, name FROM games\")\n",
    "game_id_map = {game: id_ for id_, game in cursor.fetchall()}"
   ]
  },
  {
   "cell_type": "code",
   "execution_count": null,
   "id": "53b72dc2",
   "metadata": {},
   "outputs": [],
   "source": [
    "# Ajout du game_id dans le dataframe des rankings\n",
    "\n",
    "df_rankings['game_id'] = df_rankings['game_name'].map(game_id_map).astype('Int64')"
   ]
  },
  {
   "cell_type": "markdown",
   "id": "e0c09a15",
   "metadata": {},
   "source": [
    "#### Ajout des user_id"
   ]
  },
  {
   "cell_type": "code",
   "execution_count": null,
   "id": "7072a40d",
   "metadata": {},
   "outputs": [],
   "source": [
    "# Récupération de la map genre > id\n",
    "\n",
    "cursor.execute(\"SELECT id, ranking_genre FROM ranking_genres\")\n",
    "genre_id_map = {genre: id_ for id_, genre in cursor.fetchall()}"
   ]
  },
  {
   "cell_type": "code",
   "execution_count": null,
   "id": "7e64dd2f",
   "metadata": {},
   "outputs": [],
   "source": [
    "# Ajout du ranking_genre_id dans le dataframe des rankings\n",
    "\n",
    "df_rankings['ranking_genre_id'] = df_rankings['genre'].map(genre_id_map).astype('Int64')"
   ]
  },
  {
   "cell_type": "markdown",
   "id": "c43d6c87",
   "metadata": {},
   "source": [
    "#### Ajout des type_id"
   ]
  },
  {
   "cell_type": "code",
   "execution_count": null,
   "id": "346362ef",
   "metadata": {},
   "outputs": [],
   "source": [
    "# Récupération de la map type > id\n",
    "\n",
    "cursor.execute(\"SELECT id, ranking_type FROM ranking_types\")\n",
    "type_id_map = {type: id_ for id_, type in cursor.fetchall()}"
   ]
  },
  {
   "cell_type": "code",
   "execution_count": null,
   "id": "d540a6e6",
   "metadata": {},
   "outputs": [],
   "source": [
    "# Ajout du ranking_type_id dans le dataframe des rankings\n",
    "\n",
    "df_rankings['ranking_type_id'] = df_rankings['rank_type'].map(type_id_map).astype('Int64')"
   ]
  },
  {
   "cell_type": "code",
   "execution_count": null,
   "id": "5faec259",
   "metadata": {},
   "outputs": [],
   "source": [
    "# Fermeture de la connexion\n",
    "\n",
    "cursor.close()\n",
    "cnx.close()"
   ]
  },
  {
   "cell_type": "code",
   "execution_count": null,
   "id": "80c44ab0",
   "metadata": {},
   "outputs": [],
   "source": [
    "df_rankings"
   ]
  },
  {
   "cell_type": "markdown",
   "id": "ef8d6a4e",
   "metadata": {},
   "source": [
    "### Dernières préparation des données avant insertion"
   ]
  },
  {
   "cell_type": "code",
   "execution_count": null,
   "id": "f115a259",
   "metadata": {},
   "outputs": [],
   "source": [
    "df_rankings = df_rankings[['game_id', 'ranking_genre_id', 'ranking_type_id', 'rank']]"
   ]
  },
  {
   "cell_type": "code",
   "execution_count": null,
   "id": "b45adc97",
   "metadata": {},
   "outputs": [],
   "source": [
    "# On supprime les objets dont un (ou plusieurs) des champs listés n'est pas renseigné\n",
    "\n",
    "df_rankings = df_rankings.dropna(subset=['game_id', 'ranking_genre_id', 'ranking_type_id', 'rank'])"
   ]
  },
  {
   "cell_type": "code",
   "execution_count": null,
   "id": "57b578d7",
   "metadata": {},
   "outputs": [],
   "source": [
    "# On renomme les colonnes pour correspondre à celles dans la table MySQL\n",
    "\n",
    "df_rankings = df_rankings.rename(columns={'rank': 'ranking'})"
   ]
  },
  {
   "cell_type": "markdown",
   "id": "cf8d73f4",
   "metadata": {},
   "source": [
    "### Insertion des données"
   ]
  },
  {
   "cell_type": "code",
   "execution_count": null,
   "id": "31cb1672",
   "metadata": {},
   "outputs": [],
   "source": [
    "# Requête SQL\n",
    "\n",
    "insert_query = \"\"\"\n",
    "    INSERT IGNORE INTO rankings\n",
    "    (game_id, ranking_genre_id, ranking_type_id, ranking)\n",
    "    VALUES (%s, %s, %s, %s)\n",
    "\"\"\""
   ]
  },
  {
   "cell_type": "code",
   "execution_count": null,
   "id": "c40db7ff",
   "metadata": {},
   "outputs": [],
   "source": [
    "# Connexion à la base\n",
    "\n",
    "cnx = mysql.connector.connect(**config)\n",
    "cursor = cnx.cursor()"
   ]
  },
  {
   "cell_type": "code",
   "execution_count": null,
   "id": "b6d29e2b",
   "metadata": {},
   "outputs": [],
   "source": [
    "# Exécution de la requête\n",
    "\n",
    "for _, row in df_rankings.iterrows():\n",
    "    cursor.execute(insert_query, tuple(row))\n",
    "\n",
    "cnx.commit()"
   ]
  },
  {
   "cell_type": "code",
   "execution_count": null,
   "id": "0c03e137",
   "metadata": {},
   "outputs": [],
   "source": [
    "# Fermeture de la connexion\n",
    "\n",
    "cursor.close()\n",
    "cnx.close()"
   ]
  }
 ],
 "metadata": {
  "kernelspec": {
   "display_name": "py312",
   "language": "python",
   "name": "python3"
  },
  "language_info": {
   "codemirror_mode": {
    "name": "ipython",
    "version": 3
   },
   "file_extension": ".py",
   "mimetype": "text/x-python",
   "name": "python",
   "nbconvert_exporter": "python",
   "pygments_lexer": "ipython3",
   "version": "3.12.11"
  }
 },
 "nbformat": 4,
 "nbformat_minor": 5
}
