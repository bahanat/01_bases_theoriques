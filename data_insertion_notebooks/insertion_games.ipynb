{
 "cells": [
  {
   "cell_type": "markdown",
   "id": "36393eb1",
   "metadata": {},
   "source": [
    "# Script d'insertion des données dans la table \"games\""
   ]
  },
  {
   "cell_type": "code",
   "execution_count": null,
   "id": "0a8f79d9",
   "metadata": {},
   "outputs": [],
   "source": [
    "import pandas as pd\n",
    "import mysql.connector"
   ]
  },
  {
   "cell_type": "code",
   "execution_count": null,
   "id": "080d5090",
   "metadata": {},
   "outputs": [],
   "source": [
    "from config import config"
   ]
  },
  {
   "cell_type": "code",
   "execution_count": null,
   "id": "0e978bf9",
   "metadata": {},
   "outputs": [],
   "source": [
    "descriptions_path = \"../data/games_description.csv\"\n",
    "\n",
    "df_descriptions = pd.read_csv(descriptions_path)"
   ]
  },
  {
   "cell_type": "code",
   "execution_count": null,
   "id": "49460e32",
   "metadata": {},
   "outputs": [],
   "source": [
    "df_descriptions"
   ]
  },
  {
   "cell_type": "markdown",
   "id": "5949d253",
   "metadata": {},
   "source": [
    "### Préparation du dataframe pour insertion dans la table"
   ]
  },
  {
   "cell_type": "code",
   "execution_count": null,
   "id": "8b093d74",
   "metadata": {},
   "outputs": [],
   "source": [
    "# On construit un nouveau dataframe à partir des attributs qui nous intéressent \n",
    "\n",
    "df_games = df_descriptions[['name', 'short_description', 'long_description', 'release_date', 'overall_player_rating', 'number_of_reviews_from_purchased_people', 'number_of_english_reviews', 'link']]"
   ]
  },
  {
   "cell_type": "code",
   "execution_count": null,
   "id": "b6345a90",
   "metadata": {},
   "outputs": [],
   "source": [
    "# On renomme les colonnes pour correspondre à celles dans la table MySQL\n",
    "\n",
    "df_games = df_games.rename(columns={'short_description': 'short_desc', 'long_description': 'long_desc'})"
   ]
  },
  {
   "cell_type": "code",
   "execution_count": null,
   "id": "cc4698eb",
   "metadata": {},
   "outputs": [],
   "source": [
    "# On crée la colonne \"price\", valeurs nulles pour l'instant\n",
    "\n",
    "df_games['price'] = None"
   ]
  },
  {
   "cell_type": "code",
   "execution_count": null,
   "id": "ef735e02",
   "metadata": {},
   "outputs": [],
   "source": [
    "# On fait correspondre l'ordre des colonnes du dataframe avec celles de la table\n",
    "\n",
    "df_games = df_games[['name', 'release_date', 'link', 'short_desc', 'long_desc', 'price', 'number_of_english_reviews', 'number_of_reviews_from_purchased_people', 'overall_player_rating']]"
   ]
  },
  {
   "cell_type": "markdown",
   "id": "e84fd616",
   "metadata": {},
   "source": [
    "### Transformation et normalisation des données"
   ]
  },
  {
   "cell_type": "code",
   "execution_count": null,
   "id": "2616078e",
   "metadata": {},
   "outputs": [],
   "source": [
    "# Interprétation et conversion des dates en format date (chaînes de caractères dans le .csv)\n",
    "\n",
    "df_games['release_date'] = pd.to_datetime(df_games['release_date'], format='mixed', errors='coerce')\n",
    "df_games['release_date'] = df_games['release_date'].dt.date"
   ]
  },
  {
   "cell_type": "code",
   "execution_count": null,
   "id": "81e57f51",
   "metadata": {},
   "outputs": [],
   "source": [
    "# Conversion des nombres (chaînes de caractères ici encore) en entiers, en supprimant les virgules et espaces\n",
    "\n",
    "df_games['number_of_english_reviews'] = (\n",
    "    df_games['number_of_english_reviews']\n",
    "    .astype(str)\n",
    "    .str.replace(',', '')\n",
    "    .replace('', None)\n",
    "    .astype(float)\n",
    "    .astype('Int64')\n",
    ")"
   ]
  },
  {
   "cell_type": "code",
   "execution_count": null,
   "id": "0810dc46",
   "metadata": {},
   "outputs": [],
   "source": [
    "# Conversion des valeurs Nan, NaT en None (préférable en base de données)\n",
    "\n",
    "df_games = df_games.where(pd.notnull(df_games), None)"
   ]
  },
  {
   "cell_type": "markdown",
   "id": "8690cbaf",
   "metadata": {},
   "source": [
    "### Insertion des données"
   ]
  },
  {
   "cell_type": "code",
   "execution_count": null,
   "id": "bfb217fc",
   "metadata": {},
   "outputs": [],
   "source": [
    "# Requête SQL\n",
    "\n",
    "insert_query = \"\"\"\n",
    "    INSERT INTO games\n",
    "    (name, release_date, link, short_desc, long_desc, price, number_of_english_reviews, number_of_reviews_from_purchased_people, overall_player_rating)\n",
    "    VALUES (%s, %s, %s, %s, %s, %s, %s, %s, %s)\n",
    "\"\"\""
   ]
  },
  {
   "cell_type": "code",
   "execution_count": null,
   "id": "638037db",
   "metadata": {},
   "outputs": [],
   "source": [
    "# Connexion à la base et exécution de la requête\n",
    "\n",
    "cnx = mysql.connector.connect(**config)\n",
    "cursor = cnx.cursor()\n",
    "\n",
    "for _, row in df_games.iterrows():\n",
    "    cursor.execute(insert_query, tuple(row))\n",
    "\n",
    "cnx.commit()\n",
    "cursor.close()\n",
    "cnx.close()"
   ]
  }
 ],
 "metadata": {
  "kernelspec": {
   "display_name": "py312",
   "language": "python",
   "name": "python3"
  },
  "language_info": {
   "codemirror_mode": {
    "name": "ipython",
    "version": 3
   },
   "file_extension": ".py",
   "mimetype": "text/x-python",
   "name": "python",
   "nbconvert_exporter": "python",
   "pygments_lexer": "ipython3",
   "version": "3.12.11"
  }
 },
 "nbformat": 4,
 "nbformat_minor": 5
}
