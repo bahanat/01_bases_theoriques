{
 "cells": [
  {
   "cell_type": "markdown",
   "id": "5ed5165d",
   "metadata": {},
   "source": [
    "# Script d'insertion des données dans la table \"games_publishers\""
   ]
  },
  {
   "cell_type": "code",
   "execution_count": null,
   "id": "c9d0021c",
   "metadata": {},
   "outputs": [],
   "source": [
    "import ast\n",
    "import pandas as pd\n",
    "import mysql.connector"
   ]
  },
  {
   "cell_type": "code",
   "execution_count": null,
   "id": "3479f28b",
   "metadata": {},
   "outputs": [],
   "source": [
    "from config import config"
   ]
  },
  {
   "cell_type": "code",
   "execution_count": null,
   "id": "5120f4b6",
   "metadata": {},
   "outputs": [],
   "source": [
    "descriptions_path = \"../data/games_description.csv\"\n",
    "\n",
    "df_descriptions = pd.read_csv(descriptions_path)"
   ]
  },
  {
   "cell_type": "code",
   "execution_count": null,
   "id": "7094f8b7",
   "metadata": {},
   "outputs": [],
   "source": [
    "df_descriptions"
   ]
  },
  {
   "cell_type": "markdown",
   "id": "07c29d2f",
   "metadata": {},
   "source": [
    "### Récupération des données dans la base"
   ]
  },
  {
   "cell_type": "code",
   "execution_count": null,
   "id": "5a61fe7e",
   "metadata": {},
   "outputs": [],
   "source": [
    "# Connexion à la base\n",
    "\n",
    "cnx = mysql.connector.connect(**config)\n",
    "cursor = cnx.cursor()"
   ]
  },
  {
   "cell_type": "code",
   "execution_count": null,
   "id": "ddf2fc54",
   "metadata": {},
   "outputs": [],
   "source": [
    "# Récupération de la map game > id\n",
    "\n",
    "cursor.execute(\"SELECT id, name FROM games\")\n",
    "game_id_map = {name: id_ for id_, name in cursor.fetchall()}"
   ]
  },
  {
   "cell_type": "code",
   "execution_count": null,
   "id": "a909c527",
   "metadata": {},
   "outputs": [],
   "source": [
    "# Récupération de la map publisher > id\n",
    "\n",
    "cursor.execute(\"SELECT id, publisher FROM publishers\")\n",
    "publisher_id_map = {publisher: id_ for id_, publisher in cursor.fetchall()}"
   ]
  },
  {
   "cell_type": "markdown",
   "id": "402fc229",
   "metadata": {},
   "source": [
    "### Préparation des données pour insertion"
   ]
  },
  {
   "cell_type": "code",
   "execution_count": null,
   "id": "89330479",
   "metadata": {},
   "outputs": [],
   "source": [
    "# Conversion des strings en listes pour les éditeurs\n",
    "\n",
    "df_descriptions['publisher'] = df_descriptions['publisher'].apply(ast.literal_eval)"
   ]
  },
  {
   "cell_type": "code",
   "execution_count": null,
   "id": "f010f4c6",
   "metadata": {},
   "outputs": [],
   "source": [
    "# On crée les paires games/publishers\n",
    "\n",
    "game_publisher_pairs = []\n",
    "for _, row in df_descriptions.iterrows():\n",
    "    game_name = row['name']\n",
    "    game_id = game_id_map.get(game_name)\n",
    "    if game_id is not None:\n",
    "        for publisher in row['publisher']:\n",
    "            publisher_id = publisher_id_map.get(publisher)\n",
    "            if publisher_id is not None:\n",
    "                game_publisher_pairs.append((game_id, publisher_id))"
   ]
  },
  {
   "cell_type": "markdown",
   "id": "28008692",
   "metadata": {},
   "source": [
    "### Insertion des données"
   ]
  },
  {
   "cell_type": "code",
   "execution_count": null,
   "id": "fc459036",
   "metadata": {},
   "outputs": [],
   "source": [
    "# Requête SQL\n",
    "\n",
    "insert_query = \"INSERT IGNORE INTO games_publishers (game_id, publisher_id) VALUES (%s, %s)\""
   ]
  },
  {
   "cell_type": "code",
   "execution_count": null,
   "id": "c0cb5e90",
   "metadata": {},
   "outputs": [],
   "source": [
    "# Exécution de la requête et fin de connexion\n",
    "\n",
    "cursor.executemany(insert_query, game_publisher_pairs)\n",
    "\n",
    "cnx.commit()\n",
    "cursor.close()\n",
    "cnx.close()"
   ]
  }
 ],
 "metadata": {
  "kernelspec": {
   "display_name": "py312",
   "language": "python",
   "name": "python3"
  },
  "language_info": {
   "codemirror_mode": {
    "name": "ipython",
    "version": 3
   },
   "file_extension": ".py",
   "mimetype": "text/x-python",
   "name": "python",
   "nbconvert_exporter": "python",
   "pygments_lexer": "ipython3",
   "version": "3.12.11"
  }
 },
 "nbformat": 4,
 "nbformat_minor": 5
}
