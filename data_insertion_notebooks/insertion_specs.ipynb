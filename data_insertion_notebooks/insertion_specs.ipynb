{
 "cells": [
  {
   "cell_type": "markdown",
   "id": "5ed5165d",
   "metadata": {},
   "source": [
    "# Script d'insertion des données dans la table \"specs\""
   ]
  },
  {
   "cell_type": "code",
   "execution_count": null,
   "id": "c9d0021c",
   "metadata": {},
   "outputs": [],
   "source": [
    "import ast\n",
    "import pandas as pd\n",
    "import mysql.connector"
   ]
  },
  {
   "cell_type": "code",
   "execution_count": null,
   "id": "3479f28b",
   "metadata": {},
   "outputs": [],
   "source": [
    "from config import config"
   ]
  },
  {
   "cell_type": "code",
   "execution_count": null,
   "id": "5120f4b6",
   "metadata": {},
   "outputs": [],
   "source": [
    "descriptions_path = \"../data/games_description.csv\"\n",
    "\n",
    "df_descriptions = pd.read_csv(descriptions_path)"
   ]
  },
  {
   "cell_type": "code",
   "execution_count": null,
   "id": "cbbd06f0",
   "metadata": {},
   "outputs": [],
   "source": [
    "df_descriptions"
   ]
  },
  {
   "cell_type": "markdown",
   "id": "07c29d2f",
   "metadata": {},
   "source": [
    "### Petite exploration des données"
   ]
  },
  {
   "cell_type": "code",
   "execution_count": null,
   "id": "5a61fe7e",
   "metadata": {},
   "outputs": [],
   "source": [
    "df_specs = df_descriptions[['name', 'minimum_system_requirement', 'recommend_system_requirement']].copy()\n",
    "\n",
    "df_specs"
   ]
  },
  {
   "cell_type": "code",
   "execution_count": null,
   "id": "3c49d3a4",
   "metadata": {},
   "outputs": [],
   "source": [
    "print(repr(df_specs.iloc[4, 1]))"
   ]
  },
  {
   "cell_type": "code",
   "execution_count": null,
   "id": "5dda8c64",
   "metadata": {},
   "outputs": [],
   "source": [
    "unique_keys = set()\n",
    "\n",
    "def clean_key(raw_key):\n",
    "    return (\n",
    "        raw_key\n",
    "        .strip()\n",
    "        .lower()\n",
    "        .replace('*', '')\n",
    "        .replace('®', '')\n",
    "        .replace(':', '')\n",
    "        .strip()\n",
    "    )\n",
    "\n",
    "def extract_keys(spec_column):\n",
    "    for row in df_specs[spec_column].dropna():\n",
    "        try:\n",
    "            items = ast.literal_eval(row)\n",
    "        except:\n",
    "            continue\n",
    "        for item in items:\n",
    "            if ':' in item:\n",
    "                key = item.split(':', 1)[0]\n",
    "                clean = clean_key(key)\n",
    "                unique_keys.add(clean)\n",
    "            else:\n",
    "                unique_keys.add(\"additional notes\")\n",
    "\n",
    "extract_keys('minimum_system_requirement')\n",
    "extract_keys('recommend_system_requirement')"
   ]
  },
  {
   "cell_type": "code",
   "execution_count": null,
   "id": "50f3afd5",
   "metadata": {},
   "outputs": [],
   "source": [
    "unique_keys"
   ]
  }
 ],
 "metadata": {
  "kernelspec": {
   "display_name": "py312",
   "language": "python",
   "name": "python3"
  },
  "language_info": {
   "codemirror_mode": {
    "name": "ipython",
    "version": 3
   },
   "file_extension": ".py",
   "mimetype": "text/x-python",
   "name": "python",
   "nbconvert_exporter": "python",
   "pygments_lexer": "ipython3",
   "version": "3.12.11"
  }
 },
 "nbformat": 4,
 "nbformat_minor": 5
}
