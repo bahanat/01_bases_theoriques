{
 "cells": [
  {
   "cell_type": "markdown",
   "id": "d014afbf",
   "metadata": {},
   "source": [
    "# Script d'insertion des données dans la table \"reviews\""
   ]
  },
  {
   "cell_type": "code",
   "execution_count": null,
   "id": "15ece98d",
   "metadata": {},
   "outputs": [],
   "source": [
    "import re\n",
    "import pandas as pd\n",
    "import mysql.connector\n",
    "\n",
    "from datetime import datetime"
   ]
  },
  {
   "cell_type": "code",
   "execution_count": null,
   "id": "3607aa9c",
   "metadata": {},
   "outputs": [],
   "source": [
    "from config import config"
   ]
  },
  {
   "cell_type": "code",
   "execution_count": null,
   "id": "f7d021c1",
   "metadata": {},
   "outputs": [],
   "source": [
    "reviews_path = \"data/steam_game_reviews.csv\"\n",
    "\n",
    "df_reviews = pd.read_csv(reviews_path, low_memory=False)"
   ]
  },
  {
   "cell_type": "code",
   "execution_count": null,
   "id": "4216e9cd",
   "metadata": {},
   "outputs": [],
   "source": [
    "df_reviews"
   ]
  },
  {
   "cell_type": "markdown",
   "id": "d609e38e",
   "metadata": {},
   "source": [
    "### Transformation et normalisation des données"
   ]
  },
  {
   "cell_type": "code",
   "execution_count": null,
   "id": "320fbb80",
   "metadata": {},
   "outputs": [],
   "source": [
    "current_year = str(datetime.now().year)"
   ]
  },
  {
   "cell_type": "code",
   "execution_count": null,
   "id": "bdb7bd1f",
   "metadata": {},
   "outputs": [],
   "source": [
    "def fix_date(date_str):\n",
    "    if pd.isna(date_str):\n",
    "        return None\n",
    "\n",
    "    date_str = str(date_str).strip()\n",
    "\n",
    "    if re.search(r\"\\d{4}\", date_str):\n",
    "        return pd.to_datetime(date_str, errors='coerce')\n",
    "\n",
    "    try:\n",
    "        return pd.to_datetime(f\"{date_str} {current_year}\", errors='coerce')\n",
    "    except:\n",
    "        return None"
   ]
  },
  {
   "cell_type": "code",
   "execution_count": null,
   "id": "c64953fc",
   "metadata": {},
   "outputs": [],
   "source": [
    "# Interprétation et conversion des dates en format date (chaînes de caractères dans le .csv)\n",
    "\n",
    "df_reviews['formatted_date'] = df_reviews['date'].apply(fix_date)\n",
    "df_reviews['formatted_date'] = df_reviews['formatted_date'].dt.date"
   ]
  },
  {
   "cell_type": "code",
   "execution_count": null,
   "id": "ff4b3e3d",
   "metadata": {},
   "outputs": [],
   "source": [
    "# Conversion des nombres (chaînes de caractères ici encore) en float, en supprimant les virgules et espaces\n",
    "\n",
    "df_reviews['hours_played'] = (\n",
    "    df_reviews['hours_played']\n",
    "    .astype(str)\n",
    "    .str.replace(',', '')\n",
    "    .replace('', None)\n",
    "    .astype(float)\n",
    ")"
   ]
  },
  {
   "cell_type": "code",
   "execution_count": null,
   "id": "88d47161",
   "metadata": {},
   "outputs": [],
   "source": [
    "# Conversion des nombres (chaînes de caractères ici encore) en entiers, en supprimant les virgules et espaces\n",
    "\n",
    "df_reviews['helpful'] = (\n",
    "    df_reviews['helpful']\n",
    "    .astype(str)\n",
    "    .str.replace(',', '')\n",
    "    .replace('', None)\n",
    "    .astype(float)\n",
    "    .astype('Int64')\n",
    ")\n",
    "\n",
    "df_reviews['funny'] = (\n",
    "    df_reviews['funny']\n",
    "    .astype(str)\n",
    "    .str.replace(',', '')\n",
    "    .replace('', None)\n",
    "    .astype(float)\n",
    "    .astype('Int64')\n",
    ")"
   ]
  },
  {
   "cell_type": "code",
   "execution_count": null,
   "id": "36b8ef7d",
   "metadata": {},
   "outputs": [],
   "source": [
    "# Extraction du pseudo depuis la chaîne de caractères de l'attribut \"username\"\n",
    "\n",
    "df_reviews['clean_username'] = df_reviews['username'].str.split('\\n').str[0]"
   ]
  },
  {
   "cell_type": "markdown",
   "id": "66028790",
   "metadata": {},
   "source": [
    "#### Ajout des game_id"
   ]
  },
  {
   "cell_type": "code",
   "execution_count": null,
   "id": "f3046b88",
   "metadata": {},
   "outputs": [],
   "source": [
    "# Connexion à la base\n",
    "\n",
    "cnx = mysql.connector.connect(**config)\n",
    "cursor = cnx.cursor()"
   ]
  },
  {
   "cell_type": "code",
   "execution_count": null,
   "id": "1bb7441e",
   "metadata": {},
   "outputs": [],
   "source": [
    "# Récupération de la map game > id\n",
    "\n",
    "cursor.execute(\"SELECT id, name FROM games\")\n",
    "game_id_map = {game: id_ for id_, game in cursor.fetchall()}"
   ]
  },
  {
   "cell_type": "code",
   "execution_count": null,
   "id": "53b72dc2",
   "metadata": {},
   "outputs": [],
   "source": [
    "# Ajout du game_id dans le dataframe des reviews\n",
    "\n",
    "df_reviews['game_id'] = df_reviews['game_name'].map(game_id_map).astype('Int64')"
   ]
  },
  {
   "cell_type": "markdown",
   "id": "e0c09a15",
   "metadata": {},
   "source": [
    "#### Ajout des user_id"
   ]
  },
  {
   "cell_type": "code",
   "execution_count": null,
   "id": "7072a40d",
   "metadata": {},
   "outputs": [],
   "source": [
    "# Récupération de la map user > id\n",
    "\n",
    "cursor.execute(\"SELECT id, username FROM users\")\n",
    "user_id_map = {user: id_ for id_, user in cursor.fetchall()}"
   ]
  },
  {
   "cell_type": "code",
   "execution_count": null,
   "id": "22a038af",
   "metadata": {},
   "outputs": [],
   "source": [
    "# Extraction du pseudo depuis la chaîne de caractères de l'attribut \"username\"\n",
    "\n",
    "df_reviews['clean_username'] = df_reviews['username'].str.split('\\n').str[0]"
   ]
  },
  {
   "cell_type": "code",
   "execution_count": null,
   "id": "7e64dd2f",
   "metadata": {},
   "outputs": [],
   "source": [
    "# Ajout de l'user_id dans le dataframe des reviews\n",
    "\n",
    "df_reviews['user_id'] = df_reviews['clean_username'].map(user_id_map).astype('Int64')"
   ]
  },
  {
   "cell_type": "code",
   "execution_count": null,
   "id": "5faec259",
   "metadata": {},
   "outputs": [],
   "source": [
    "# Fermeture de la connexion\n",
    "\n",
    "cursor.close()\n",
    "cnx.close()"
   ]
  },
  {
   "cell_type": "markdown",
   "id": "ef8d6a4e",
   "metadata": {},
   "source": [
    "### Dernières préparation des données avant insertion"
   ]
  },
  {
   "cell_type": "code",
   "execution_count": null,
   "id": "f3d00b59",
   "metadata": {},
   "outputs": [],
   "source": [
    "# Conversion des valeurs Nan, NaT en None (préférable en base de données)\n",
    "\n",
    "df_reviews = df_reviews.where(pd.notnull(df_reviews), None)"
   ]
  },
  {
   "cell_type": "code",
   "execution_count": null,
   "id": "e4d520ec",
   "metadata": {},
   "outputs": [],
   "source": [
    "# On fait correspondre le nom et l'ordre des colonnes du dataframe avec celles de la table\n",
    "\n",
    "df_reviews = df_reviews.rename(columns={'formatted_date': 'publication_date'})"
   ]
  },
  {
   "cell_type": "code",
   "execution_count": null,
   "id": "f115a259",
   "metadata": {},
   "outputs": [],
   "source": [
    "df_reviews = df_reviews[['game_id', 'user_id', 'hours_played', 'publication_date', 'review', 'recommendation', 'helpful', 'funny']]"
   ]
  },
  {
   "cell_type": "code",
   "execution_count": null,
   "id": "b45adc97",
   "metadata": {},
   "outputs": [],
   "source": [
    "# On supprime les objets dont un (ou plusieurs) des champs listés n'est pas renseigné\n",
    "\n",
    "df_reviews = df_reviews.dropna(subset=['game_id', 'user_id', 'publication_date', 'hours_played'])"
   ]
  },
  {
   "cell_type": "code",
   "execution_count": null,
   "id": "ce61b130",
   "metadata": {},
   "outputs": [],
   "source": [
    "# On supprime les doublons en se servant des champs précisés\n",
    "\n",
    "df_reviews = df_reviews.drop_duplicates(\n",
    "    subset=['game_id', 'user_id', 'publication_date', 'hours_played', 'review'],\n",
    "    keep='first'\n",
    ")"
   ]
  },
  {
   "cell_type": "markdown",
   "id": "cf8d73f4",
   "metadata": {},
   "source": [
    "### Insertion des données"
   ]
  },
  {
   "cell_type": "code",
   "execution_count": null,
   "id": "31cb1672",
   "metadata": {},
   "outputs": [],
   "source": [
    "# Requête SQL\n",
    "\n",
    "insert_query = \"\"\"\n",
    "    INSERT IGNORE INTO reviews\n",
    "    (game_id, user_id, hours_played, publication_date, review, recommandation, helpful, funny)\n",
    "    VALUES (%s, %s, %s, %s, %s, %s, %s, %s)\n",
    "\"\"\""
   ]
  },
  {
   "cell_type": "code",
   "execution_count": null,
   "id": "c40db7ff",
   "metadata": {},
   "outputs": [],
   "source": [
    "# Connexion à la base\n",
    "\n",
    "cnx = mysql.connector.connect(**config)\n",
    "cursor = cnx.cursor()"
   ]
  },
  {
   "cell_type": "code",
   "execution_count": null,
   "id": "b6d29e2b",
   "metadata": {},
   "outputs": [],
   "source": [
    "# Exécution de la requête\n",
    "\n",
    "for _, row in df_reviews.iterrows():\n",
    "    values = tuple(None if pd.isna(x) else x for x in row[[\n",
    "        'game_id',\n",
    "        'user_id',\n",
    "        'hours_played',\n",
    "        'publication_date',\n",
    "        'review',\n",
    "        'recommendation',\n",
    "        'helpful',\n",
    "        'funny'\n",
    "    ]])\n",
    "    cursor.execute(insert_query, values)\n",
    "\n",
    "cnx.commit()"
   ]
  },
  {
   "cell_type": "code",
   "execution_count": null,
   "id": "0c03e137",
   "metadata": {},
   "outputs": [],
   "source": [
    "# Fermeture de la connexion\n",
    "\n",
    "cursor.close()\n",
    "cnx.close()"
   ]
  }
 ],
 "metadata": {
  "kernelspec": {
   "display_name": "py312",
   "language": "python",
   "name": "python3"
  },
  "language_info": {
   "codemirror_mode": {
    "name": "ipython",
    "version": 3
   },
   "file_extension": ".py",
   "mimetype": "text/x-python",
   "name": "python",
   "nbconvert_exporter": "python",
   "pygments_lexer": "ipython3",
   "version": "3.12.11"
  }
 },
 "nbformat": 4,
 "nbformat_minor": 5
}
